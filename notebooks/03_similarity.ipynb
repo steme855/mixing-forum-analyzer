{
  "cells": [
    {
      "cell_type": "markdown",
      "metadata": {},
      "source": [
        "# 03 Similarity\n",
        "\n",
        "Fülle diese Notebook-Übung im Laufe von Woche 1 aus.\n"
      ]
    }
  ],
  "metadata": {
    "kernelspec": {
      "display_name": "Python 3",
      "language": "python",
      "name": "python3"
    }
  },
  "nbformat": 4,
  "nbformat_minor": 5
}