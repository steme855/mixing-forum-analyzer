{
 "cells": [
  {
   "cell_type": "code",
   "execution_count": 1,
   "id": "40add806-9136-4920-ba28-36635927204d",
   "metadata": {},
   "outputs": [],
   "source": [
    "import os\n",
    "from pathlib import Path\n",
    "\n",
    "# Robust project root resolution: aim to have CWD at repo root (where 'data/' lives)\n",
    "CWD = Path.cwd()\n",
    "DATA_FILE = \"data/sample_corpus.json\"\n",
    "\n",
    "# If data exists here, we're already at project root.\n",
    "if not (CWD / DATA_FILE).exists():\n",
    "    # If we're inside notebooks/, go one level up\n",
    "    if CWD.name == \"notebooks\" and (CWD.parent / DATA_FILE).exists():\n",
    "        os.chdir(CWD.parent)\n",
    "    else:\n",
    "        # Walk up max 3 levels to find a folder that contains data/sample_corpus.json\n",
    "        for up in [CWD.parent, CWD.parent.parent, CWD.parent.parent.parent]:\n",
    "            if up and (up / DATA_FILE).exists():\n",
    "                os.chdir(up)\n",
    "                break\n"
   ]
  },
  {
   "cell_type": "code",
   "execution_count": 2,
   "id": "4a118ca9-36b3-4ca5-b27e-47c8df76adb1",
   "metadata": {},
   "outputs": [],
   "source": [
    "from sklearn.feature_extraction.text import TfidfVectorizer"
   ]
  },
  {
   "cell_type": "code",
   "execution_count": 3,
   "id": "7733477d-7408-4008-bc01-309ba9672509",
   "metadata": {},
   "outputs": [],
   "source": [
    "from sklearn.cluster import KMeans"
   ]
  },
  {
   "cell_type": "code",
   "execution_count": 4,
   "id": "95be4088-d630-4de3-8154-2530e8d20166",
   "metadata": {},
   "outputs": [],
   "source": [
    "from sklearn.decomposition import TruncatedSVD"
   ]
  },
  {
   "cell_type": "code",
   "execution_count": 5,
   "id": "d0325ed2-2387-47ff-942a-b62e750ccd06",
   "metadata": {},
   "outputs": [],
   "source": [
    "import numpy as np, json, pandas as pd"
   ]
  },
  {
   "cell_type": "code",
   "execution_count": 6,
   "id": "70610394-d119-45d1-91fa-47d1eec89b0b",
   "metadata": {},
   "outputs": [],
   "source": [
    "from pathlib import Path\n",
    "import json\n",
    "\n",
    "DATA_PATH = Path(\"data\") / \"sample_corpus.json\"\n",
    "if DATA_PATH.exists():\n",
    "    texts = json.loads(DATA_PATH.read_text(encoding=\"utf-8\"))\n",
    "else:\n",
    "    # Fallback mini-corpus so the notebook still runs\n",
    "    texts = [\n",
    "        \"Die Snare ist zu laut und harsch.\",\n",
    "        \"Kick zu weich, es fehlt der Punch.\",\n",
    "        \"S-Laute sind scharf, De-Esser einsetzen.\",\n",
    "        \"Bass maskiert die Kick, Sidechain nötig.\",\n",
    "        \"Vocals klingen nasal, 800 Hz absenken.\",\n",
    "    ]\n"
   ]
  },
  {
   "cell_type": "code",
   "execution_count": 7,
   "id": "4df0cfd7-87af-4129-97c5-a2af4c5e9b34",
   "metadata": {},
   "outputs": [],
   "source": [
    "tfidf = TfidfVectorizer(ngram_range=(1,2), min_df=1)"
   ]
  },
  {
   "cell_type": "code",
   "execution_count": 8,
   "id": "798b6a00-51f7-4fba-9071-2694a2360db1",
   "metadata": {},
   "outputs": [],
   "source": [
    "X = tfidf.fit_transform(texts)"
   ]
  },
  {
   "cell_type": "code",
   "execution_count": 9,
   "id": "52a45e5b-abc9-482e-8ce6-cf8d325b3c09",
   "metadata": {},
   "outputs": [],
   "source": [
    "Z = TruncatedSVD(n_components=50, random_state=42).fit_transform(X)"
   ]
  },
  {
   "cell_type": "code",
   "execution_count": 10,
   "id": "fdd02b67-beeb-47ca-83cd-3c88d7f7bb1a",
   "metadata": {},
   "outputs": [],
   "source": [
    "km = KMeans(n_clusters=5, n_init=10, random_state=42).fit(Z)"
   ]
  },
  {
   "cell_type": "code",
   "execution_count": 11,
   "id": "24ed0416-a631-43e6-a7d7-a433a94edfc4",
   "metadata": {},
   "outputs": [],
   "source": [
    "labels = km.labels_\n"
   ]
  },
  {
   "cell_type": "code",
   "execution_count": 12,
   "id": "a1ad35ac-4c13-49d8-b87a-bd21e315325d",
   "metadata": {},
   "outputs": [],
   "source": [
    "df = pd.DataFrame({\"post_id\": range(len(texts)), \"text\": texts, \"cluster\": labels})\n"
   ]
  },
  {
   "cell_type": "code",
   "execution_count": 13,
   "id": "new-inserted-cell-1",
   "metadata": {},
   "outputs": [
    {
     "name": "stdout",
     "output_type": "stream",
     "text": [
      "Cluster sizes:\n",
      " cluster\n",
      "0    1\n",
      "1    4\n",
      "2    2\n",
      "3    2\n",
      "4    1\n"
     ]
    },
    {
     "data": {
      "text/html": [
       "<div>\n",
       "<style scoped>\n",
       "    .dataframe tbody tr th:only-of-type {\n",
       "        vertical-align: middle;\n",
       "    }\n",
       "\n",
       "    .dataframe tbody tr th {\n",
       "        vertical-align: top;\n",
       "    }\n",
       "\n",
       "    .dataframe thead th {\n",
       "        text-align: right;\n",
       "    }\n",
       "</style>\n",
       "<table border=\"1\" class=\"dataframe\">\n",
       "  <thead>\n",
       "    <tr style=\"text-align: right;\">\n",
       "      <th></th>\n",
       "      <th>post_id</th>\n",
       "      <th>text</th>\n",
       "      <th>cluster</th>\n",
       "    </tr>\n",
       "  </thead>\n",
       "  <tbody>\n",
       "    <tr>\n",
       "      <th>0</th>\n",
       "      <td>0</td>\n",
       "      <td>Die Kickdrum pumpt im Mix, aber die Snare wirk...</td>\n",
       "      <td>1</td>\n",
       "    </tr>\n",
       "    <tr>\n",
       "      <th>1</th>\n",
       "      <td>1</td>\n",
       "      <td>Vocals sitzen zu weit hinten, mehr Präsenz im ...</td>\n",
       "      <td>1</td>\n",
       "    </tr>\n",
       "    <tr>\n",
       "      <th>2</th>\n",
       "      <td>2</td>\n",
       "      <td>Die Snare klingt trocken und etwas hart, viell...</td>\n",
       "      <td>1</td>\n",
       "    </tr>\n",
       "    <tr>\n",
       "      <th>3</th>\n",
       "      <td>3</td>\n",
       "      <td>Bassdrum und Kickdrum werden oft verwechselt –...</td>\n",
       "      <td>1</td>\n",
       "    </tr>\n",
       "    <tr>\n",
       "      <th>4</th>\n",
       "      <td>4</td>\n",
       "      <td>Die Hi-Hats sind zu scharf, ein sanfter Low-Pa...</td>\n",
       "      <td>0</td>\n",
       "    </tr>\n",
       "  </tbody>\n",
       "</table>\n",
       "</div>"
      ],
      "text/plain": [
       "   post_id                                               text  cluster\n",
       "0        0  Die Kickdrum pumpt im Mix, aber die Snare wirk...        1\n",
       "1        1  Vocals sitzen zu weit hinten, mehr Präsenz im ...        1\n",
       "2        2  Die Snare klingt trocken und etwas hart, viell...        1\n",
       "3        3  Bassdrum und Kickdrum werden oft verwechselt –...        1\n",
       "4        4  Die Hi-Hats sind zu scharf, ein sanfter Low-Pa...        0"
      ]
     },
     "execution_count": 13,
     "metadata": {},
     "output_type": "execute_result"
    }
   ],
   "source": [
    "# Quick inspection\n",
    "print(\"Cluster sizes:\\n\", df[\"cluster\"].value_counts().sort_index().to_string())\n",
    "df.head()"
   ]
  },
  {
   "cell_type": "code",
   "execution_count": 14,
   "id": "5765be31-d295-49ad-b22e-57fe4781c8ba",
   "metadata": {},
   "outputs": [],
   "source": [
    "df.to_csv(\"data/clusters.csv\", index=False)"
   ]
  },
  {
   "cell_type": "code",
   "execution_count": null,
   "id": "91bee4a9-8c7b-463c-8eba-dc63e0c3e9ce",
   "metadata": {},
   "outputs": [],
   "source": []
  },
  {
   "cell_type": "code",
   "execution_count": null,
   "id": "4907a464-8f24-4a8e-9bf5-4bb91b41eca8",
   "metadata": {},
   "outputs": [],
   "source": []
  }
 ],
 "metadata": {
  "kernelspec": {
   "display_name": "Python 3 (ipykernel)",
   "language": "python",
   "name": "python3"
  },
  "language_info": {
   "codemirror_mode": {
    "name": "ipython",
    "version": 3
   },
   "file_extension": ".py",
   "mimetype": "text/x-python",
   "name": "python",
   "nbconvert_exporter": "python",
   "pygments_lexer": "ipython3",
   "version": "3.12.8"
  }
 },
 "nbformat": 4,
 "nbformat_minor": 5
}
