{
 "cells": [
  {
   "cell_type": "markdown",
   "id": "6759bc21-fefd-4c6c-86ee-ee4d79e88562",
   "metadata": {},
   "source": [
    "import sys\n",
    "print(sys.executable)  # sollte auf .../mixing-forum-analyzer/venv/... zeigen\n"
   ]
  },
  {
   "cell_type": "markdown",
   "id": "c43bcd19-93f9-4c4f-9d38-3e1963edcc39",
   "metadata": {},
   "source": [
    "import notebook, jupyterlab\n",
    "print(\"Notebook & JupyterLab sind in der venv verfügbar ✅\")"
   ]
  },
  {
   "cell_type": "markdown",
   "id": "de415736-0803-40ef-b420-e053cb297520",
   "metadata": {},
   "source": [
    "import json, pathlib\n"
   ]
  },
  {
   "cell_type": "markdown",
   "id": "310d0285-1c9d-4580-9290-86c95d9f3095",
   "metadata": {},
   "source": [
    "CORPUS_PATH = pathlib.Path(\"../data/sample_corpus.json\")"
   ]
  },
  {
   "cell_type": "markdown",
   "id": "bc39c782-8a22-43af-90fe-405d83b8e95e",
   "metadata": {},
   "source": [
    "corpus = json.loads(CORPUS_PATH.read_text(encoding=\"utf-8\"))"
   ]
  },
  {
   "cell_type": "markdown",
   "id": "5c7317cf-c8ed-4f76-89e6-d8230830759e",
   "metadata": {},
   "source": [
    "len(corpus), corpus[:3]"
   ]
  },
  {
   "cell_type": "markdown",
   "id": "d7072ade-9ad0-44d8-a918-934057c05b6c",
   "metadata": {},
   "source": [
    "import re"
   ]
  },
  {
   "cell_type": "markdown",
   "id": "cd312292-3e1c-45a7-b225-42d41e89bb3d",
   "metadata": {},
   "source": [
    "def simple_tokens(s: str):\n",
    "    return re.findall(r\"\\w+\", s.lower())"
   ]
  },
  {
   "cell_type": "markdown",
   "id": "286a2e41-7d40-49c3-8790-c2f3e12b5e2c",
   "metadata": {},
   "source": [
    "for i, s in enumerate(corpus[:5], 1):\n",
    "    print(i, simple_tokens(s))\n",
    "    "
   ]
  },
  {
   "cell_type": "markdown",
   "id": "d2973810-1183-4f78-9e48-53ad89ee6277",
   "metadata": {},
   "source": [
    "from sklearn.feature_extraction.text import CountVectorizer, TfidfVectorizer\n",
    "import pandas as pd"
   ]
  },
  {
   "cell_type": "markdown",
   "id": "0e91b81b-54d1-41af-a266-4d3fdc9e5098",
   "metadata": {},
   "source": [
    "from sklearn.feature_extraction.text import CountVectorizer, TfidfVectorizer"
   ]
  },
  {
   "cell_type": "markdown",
   "id": "5fe5a1b7-3078-4971-9ece-2fa67e221930",
   "metadata": {},
   "source": [
    "import sklearn, pandas as pd"
   ]
  },
  {
   "cell_type": "markdown",
   "id": "4227cb0d-f1e3-4db3-86dc-e4b7d2c384c4",
   "metadata": {},
   "source": [
    "print(\"scikit-learn Version:\", sklearn.__version__)"
   ]
  },
  {
   "cell_type": "markdown",
   "id": "613f3333-3eeb-466a-9007-7e1f69f34741",
   "metadata": {},
   "source": [
    "print(\"pandas Version:\", pd.__version__)"
   ]
  },
  {
   "cell_type": "markdown",
   "id": "c247087c-208a-4ba1-b8e0-1ad5d13ccd14",
   "metadata": {},
   "source": []
  },
  {
   "cell_type": "markdown",
   "id": "6b3f9440-c170-4a95-af76-0c97f0ccee3f",
   "metadata": {},
   "source": [
    "from sklearn.feature_extraction.text import CountVectorizer, TfidfVectorizer"
   ]
  },
  {
   "cell_type": "markdown",
   "id": "e5cfc568-28fb-4eae-a5d3-6975497ad157",
   "metadata": {},
   "source": [
    "import pandas as pd"
   ]
  },
  {
   "cell_type": "markdown",
   "id": "5845634d-5b9c-463b-ae71-d20a483ebb89",
   "metadata": {},
   "source": [
    "from sklearn.feature_extraction.text import TfidfVectorizer, ENGLISH_STOP_WORDS"
   ]
  },
  {
   "cell_type": "code",
   "execution_count": 1,
   "id": "64439c6a-a0b6-479f-9eed-394504d7b5ef",
   "metadata": {},
   "outputs": [
    {
     "data": {
      "text/html": [
       "<div>\n",
       "<style scoped>\n",
       "    .dataframe tbody tr th:only-of-type {\n",
       "        vertical-align: middle;\n",
       "    }\n",
       "\n",
       "    .dataframe tbody tr th {\n",
       "        vertical-align: top;\n",
       "    }\n",
       "\n",
       "    .dataframe thead th {\n",
       "        text-align: right;\n",
       "    }\n",
       "</style>\n",
       "<table border=\"1\" class=\"dataframe\">\n",
       "  <thead>\n",
       "    <tr style=\"text-align: right;\">\n",
       "      <th></th>\n",
       "      <th>300</th>\n",
       "      <th>500</th>\n",
       "      <th>800</th>\n",
       "      <th>absenken</th>\n",
       "      <th>anheben</th>\n",
       "      <th>bass</th>\n",
       "      <th>bassdrum</th>\n",
       "      <th>bassspur</th>\n",
       "      <th>bereich</th>\n",
       "      <th>boxig</th>\n",
       "      <th>...</th>\n",
       "      <th>scharf</th>\n",
       "      <th>sidechain</th>\n",
       "      <th>sitzen</th>\n",
       "      <th>snare</th>\n",
       "      <th>sub</th>\n",
       "      <th>transientenfreundlicher</th>\n",
       "      <th>trocken</th>\n",
       "      <th>verwechselt</th>\n",
       "      <th>vocals</th>\n",
       "      <th>wirkt</th>\n",
       "    </tr>\n",
       "  </thead>\n",
       "  <tbody>\n",
       "    <tr>\n",
       "      <th>0</th>\n",
       "      <td>0.0</td>\n",
       "      <td>0.0</td>\n",
       "      <td>0.0</td>\n",
       "      <td>0.0</td>\n",
       "      <td>0.0</td>\n",
       "      <td>0.0</td>\n",
       "      <td>0.0</td>\n",
       "      <td>0.0</td>\n",
       "      <td>0.000000</td>\n",
       "      <td>0.0</td>\n",
       "      <td>...</td>\n",
       "      <td>0.0</td>\n",
       "      <td>0.0</td>\n",
       "      <td>0.000000</td>\n",
       "      <td>0.323796</td>\n",
       "      <td>0.0</td>\n",
       "      <td>0.0</td>\n",
       "      <td>0.000000</td>\n",
       "      <td>0.0</td>\n",
       "      <td>0.000000</td>\n",
       "      <td>0.435368</td>\n",
       "    </tr>\n",
       "    <tr>\n",
       "      <th>1</th>\n",
       "      <td>0.0</td>\n",
       "      <td>0.0</td>\n",
       "      <td>0.0</td>\n",
       "      <td>0.0</td>\n",
       "      <td>0.0</td>\n",
       "      <td>0.0</td>\n",
       "      <td>0.0</td>\n",
       "      <td>0.0</td>\n",
       "      <td>0.418024</td>\n",
       "      <td>0.0</td>\n",
       "      <td>...</td>\n",
       "      <td>0.0</td>\n",
       "      <td>0.0</td>\n",
       "      <td>0.418024</td>\n",
       "      <td>0.000000</td>\n",
       "      <td>0.0</td>\n",
       "      <td>0.0</td>\n",
       "      <td>0.000000</td>\n",
       "      <td>0.0</td>\n",
       "      <td>0.418024</td>\n",
       "      <td>0.000000</td>\n",
       "    </tr>\n",
       "    <tr>\n",
       "      <th>2</th>\n",
       "      <td>0.0</td>\n",
       "      <td>0.0</td>\n",
       "      <td>0.0</td>\n",
       "      <td>0.0</td>\n",
       "      <td>0.0</td>\n",
       "      <td>0.0</td>\n",
       "      <td>0.0</td>\n",
       "      <td>0.0</td>\n",
       "      <td>0.000000</td>\n",
       "      <td>0.0</td>\n",
       "      <td>...</td>\n",
       "      <td>0.0</td>\n",
       "      <td>0.0</td>\n",
       "      <td>0.000000</td>\n",
       "      <td>0.348546</td>\n",
       "      <td>0.0</td>\n",
       "      <td>0.0</td>\n",
       "      <td>0.468646</td>\n",
       "      <td>0.0</td>\n",
       "      <td>0.000000</td>\n",
       "      <td>0.000000</td>\n",
       "    </tr>\n",
       "  </tbody>\n",
       "</table>\n",
       "<p>3 rows × 55 columns</p>\n",
       "</div>"
      ],
      "text/plain": [
       "   300  500  800  absenken  anheben  bass  bassdrum  bassspur   bereich  \\\n",
       "0  0.0  0.0  0.0       0.0      0.0   0.0       0.0       0.0  0.000000   \n",
       "1  0.0  0.0  0.0       0.0      0.0   0.0       0.0       0.0  0.418024   \n",
       "2  0.0  0.0  0.0       0.0      0.0   0.0       0.0       0.0  0.000000   \n",
       "\n",
       "   boxig  ...  scharf  sidechain    sitzen     snare  sub  \\\n",
       "0    0.0  ...     0.0        0.0  0.000000  0.323796  0.0   \n",
       "1    0.0  ...     0.0        0.0  0.418024  0.000000  0.0   \n",
       "2    0.0  ...     0.0        0.0  0.000000  0.348546  0.0   \n",
       "\n",
       "   transientenfreundlicher   trocken  verwechselt    vocals     wirkt  \n",
       "0                      0.0  0.000000          0.0  0.000000  0.435368  \n",
       "1                      0.0  0.000000          0.0  0.418024  0.000000  \n",
       "2                      0.0  0.468646          0.0  0.000000  0.000000  \n",
       "\n",
       "[3 rows x 55 columns]"
      ]
     },
     "execution_count": 1,
     "metadata": {},
     "output_type": "execute_result"
    }
   ],
   "source": [
    "# Imports (in derselben Zelle!)\n",
    "import json, pathlib\n",
    "import pandas as pd\n",
    "from sklearn.feature_extraction.text import TfidfVectorizer\n",
    "from spacy.lang.de.stop_words import STOP_WORDS as DE_STOP\n",
    "\n",
    "# Korpus laden (falls noch nicht vorhanden)\n",
    "CORPUS_PATH = pathlib.Path(\"../data/sample_corpus.json\")\n",
    "corpus = json.loads(CORPUS_PATH.read_text(encoding=\"utf-8\"))\n",
    "assert isinstance(corpus, list) and all(isinstance(x, str) for x in corpus)\n",
    "\n",
    "# Deutsche Stopwörter: spaCy liefert ein Set -> in Liste umwandeln\n",
    "german_stop = sorted(list(DE_STOP))\n",
    "\n",
    "# TF-IDF bauen\n",
    "tfidf = TfidfVectorizer(lowercase=True, stop_words=german_stop)  # alternativ: max_features=5000, ngram_range=(1,2)\n",
    "X_tfidf = tfidf.fit_transform(corpus)\n",
    "\n",
    "# Vorschau\n",
    "pd.DataFrame(X_tfidf.toarray(), columns=tfidf.get_feature_names_out()).head(3)"
   ]
  },
  {
   "cell_type": "markdown",
   "id": "605959be-0aff-4fe1-b344-4bcdbcbb1ca5",
   "metadata": {},
   "source": [
    "german_stop = {\n",
    "    \"der\",\"die\",\"das\",\"und\",\"oder\",\"aber\",\"im\",\"in\",\"am\",\"ein\",\"eine\",\"einer\",\n",
    "    \"zu\",\"mit\",\"von\",\"für\",\"mehr\",\"ich\",\"du\",\"wir\",\"ihr\",\"man\",\"den\",\"dem\"\n",
    "}\n"
   ]
  },
  {
   "cell_type": "markdown",
   "id": "fe4a6307-f575-43fb-a6fc-0434948c0992",
   "metadata": {},
   "source": [
    "tfidf = TfidfVectorizer(lowercase=True, stop_words=german_stop)"
   ]
  },
  {
   "cell_type": "markdown",
   "id": "afb4981c-603d-47d5-9bc3-3b81440b5374",
   "metadata": {},
   "source": [
    "X_tfidf = tfidf.fit_transform(corpus)"
   ]
  },
  {
   "cell_type": "markdown",
   "id": "427608e9-9cad-460e-b964-0a93f7b7536b",
   "metadata": {},
   "source": [
    "pd.DataFrame(X_tfidf.toarray(), columns=tfidf.get_feature_names_out()).head(3)"
   ]
  },
  {
   "cell_type": "markdown",
   "id": "b94566a4-d684-4434-9c1a-159e9c7f205e",
   "metadata": {},
   "source": [
    "\n",
    "german_stop = [\n",
    "    \"der\",\"die\",\"das\",\"und\",\"oder\",\"aber\",\"im\",\"in\",\"am\",\"ein\",\"eine\",\"einer\",\n",
    "    \"zu\",\"mit\",\"von\",\"für\",\"mehr\",\"ich\",\"du\",\"wir\",\"ihr\",\"man\",\"den\",\"dem\"\n",
    "]\n",
    "tfidf = TfidfVectorizer(lowercase=True, stop_words=german_stop)\n",
    "X_tfidf = tfidf.fit_transform(corpus)"
   ]
  },
  {
   "cell_type": "markdown",
   "id": "2f6246bd-10a1-4207-a451-5a80374f22fd",
   "metadata": {},
   "source": [
    "from sklearn.feature_extraction.text import TfidfVectorizer"
   ]
  },
  {
   "cell_type": "markdown",
   "id": "56684e73-30f9-411d-9beb-7359a0d7e6fe",
   "metadata": {},
   "source": [
    "german_stop = [\n",
    "    \"der\",\"die\",\"das\",\"und\",\"oder\",\"aber\",\"im\",\"in\",\"am\",\"ein\",\"eine\",\"einer\",\n",
    "    \"zu\",\"mit\",\"von\",\"für\",\"mehr\",\"ich\",\"du\",\"wir\",\"ihr\",\"man\",\"den\",\"dem\"\n",
    "]\n",
    "tfidf = TfidfVectorizer(lowercase=True, stop_words=german_stop)\n",
    "X_tfidf = tfidf.fit_transform(corpus)\n"
   ]
  },
  {
   "cell_type": "markdown",
   "id": "ab9903cd-6e57-4fcc-b08d-dadb86a30892",
   "metadata": {},
   "source": [
    "import spacy\n"
   ]
  },
  {
   "cell_type": "markdown",
   "id": "2e167d20-f784-4d63-bc4c-8100a1da03c6",
   "metadata": {},
   "source": [
    "german_stop = [\n",
    "    \"der\",\"die\",\"das\",\"und\",\"oder\",\"aber\",\"im\",\"in\",\"am\",\"ein\",\"eine\",\"einer\",\n",
    "    \"zu\",\"mit\",\"von\",\"für\",\"mehr\",\"ich\",\"du\",\"wir\",\"ihr\",\"man\",\"den\",\"dem\"\n",
    "]\n"
   ]
  },
  {
   "cell_type": "markdown",
   "id": "777618f9-5349-4516-b4d2-ab27e66f4216",
   "metadata": {},
   "source": [
    "tfidf = TfidfVectorizer(lowercase=True, stop_words=german_stop)"
   ]
  },
  {
   "cell_type": "markdown",
   "id": "cea81991-b8ae-4e4b-8f56-d9b0bfd7c19b",
   "metadata": {},
   "source": [
    "X_tfidf = tfidf.fit_transform(corpus)"
   ]
  },
  {
   "cell_type": "markdown",
   "id": "79e29558-d5e6-4ee2-9fbc-8b11be8d9488",
   "metadata": {},
   "source": [
    "tfidf = TfidfVectorizer(lowercase=True, stop_words=spacy_stop) "
   ]
  },
  {
   "cell_type": "markdown",
   "id": "49c34eb5-6a3f-499a-8df6-eb0041a6d5d9",
   "metadata": {},
   "source": [
    "tfidf = TfidfVectorizer(lowercase=True, stop_words=spacy_stop) "
   ]
  },
  {
   "cell_type": "markdown",
   "id": "1c6597d8-1098-412f-a4e5-27b8b966d673",
   "metadata": {},
   "source": []
  },
  {
   "cell_type": "markdown",
   "id": "10ef288a-8e7e-4b9d-bb85-ec041020c886",
   "metadata": {},
   "source": [
    "import pandas as pd"
   ]
  },
  {
   "cell_type": "markdown",
   "id": "a58cbed7-b84e-481d-b5c8-1ccac91d9267",
   "metadata": {},
   "source": [
    "pd.DataFrame(X_tfidf.toarray(), columns=tfidf.get_feature_names_out()).head(3)\n"
   ]
  },
  {
   "cell_type": "markdown",
   "id": "2a0f640b-f2ac-4675-84d8-ebab34a88097",
   "metadata": {},
   "source": [
    "pd.DataFrame(X_tfidf.toarray(), columns=tfidf.get_feature_names_out()).head(3)"
   ]
  },
  {
   "cell_type": "markdown",
   "id": "02dbc9e0-889c-4b84-bc9b-b1a72d137a43",
   "metadata": {},
   "source": [
    "# --- Imports & Setup ---\n",
    "import json, pathlib, re, numpy as np, pandas as pd\n",
    "from sklearn.feature_extraction.text import TfidfVectorizer, CountVectorizer\n",
    "from sklearn.metrics.pairwise import cosine_similarity\n",
    "import spacy\n",
    "\n",
    "# --- Corpus laden ---\n",
    "CORPUS_PATH = pathlib.Path(\"../data/sample_corpus.json\")\n",
    "corpus = json.loads(CORPUS_PATH.read_text(encoding=\"utf-8\"))\n",
    "print(f\"Dokumente im Corpus: {len(corpus)}\")\n",
    "\n",
    "# --- Stopwörter: spaCy (mit Fallback) ---\n",
    "try:\n",
    "    nlp = spacy.load(\"de_core_news_sm\")\n",
    "    stop_words = list(nlp.Defaults.stop_words)  # Liste, nicht Set!\n",
    "except Exception as e:\n",
    "    # Fallback, falls spaCy-Modell lokal nicht verfügbar\n",
    "    stop_words = [\n",
    "        \"der\",\"die\",\"das\",\"und\",\"oder\",\"aber\",\"im\",\"in\",\"am\",\"ein\",\"eine\",\"einer\",\n",
    "        \"zu\",\"mit\",\"von\",\"für\",\"mehr\",\"ich\",\"du\",\"wir\",\"ihr\",\"man\",\"den\",\"dem\",\"einmal\"\n",
    "    ]\n",
    "    print(\"Hinweis: spaCy DE Modell nicht geladen – Fallback-Stopwörter aktiv.\")\n",
    "\n",
    "# --- TF-IDF (inkl. 2-gramme für Phrasen wie 'zu scharf') ---\n",
    "tfidf = TfidfVectorizer(lowercase=True, stop_words=stop_words, ngram_range=(1,2))\n",
    "X_tfidf = tfidf.fit_transform(corpus)\n",
    "features = np.array(tfidf.get_feature_names_out())\n",
    "print(\"TF-IDF Matrix:\", X_tfidf.shape)\n",
    "\n",
    "# --- Helper: Top-Terme je Dokument ---\n",
    "def top_terms(row_vec, k=5):\n",
    "    arr = row_vec.toarray().ravel()\n",
    "    idx = arr.argsort()[::-1][:k]\n",
    "    return list(zip(features[idx], arr[idx].round(3)))\n",
    "\n",
    "# --- Similarity-Funktion ---\n",
    "def most_similar(query: str, topk: int = 5):\n",
    "    qv = tfidf.transform([query])\n",
    "    sims = cosine_similarity(qv, X_tfidf).ravel()\n",
    "    idx = sims.argsort()[::-1][:topk]\n",
    "    return pd.DataFrame({\n",
    "        \"Ähnlichkeit\": sims[idx].round(3),\n",
    "        \"Post\": [corpus[i] for i in idx]\n",
    "    })\n",
    "\n",
    "# --- Mini-Demo ---\n",
    "print(\"Top-Wörter für Doc 0:\", top_terms(X_tfidf[0], k=5))\n",
    "most_similar(\"Snare zu boxig, mehr Punch auf Kick\", topk=5)"
   ]
  },
  {
   "cell_type": "markdown",
   "id": "2e4819ff-a176-4418-9ac4-5da02f5ab6bc",
   "metadata": {},
   "source": [
    "import spacy\n",
    "nlp = spacy.load(\"de_core_news_sm\")\n",
    "\n",
    "def spacy_lemma_analyzer(doc):\n",
    "    # nur Lemmas, keine Stoppwörter/Interpunktion/Ziffern\n",
    "    return [t.lemma_.lower() for t in nlp(doc)\n",
    "            if not (t.is_stop or t.is_punct or t.like_num)]\n",
    "\n",
    "from sklearn.feature_extraction.text import TfidfVectorizer\n",
    "tfidf = TfidfVectorizer(analyzer=spacy_lemma_analyzer, ngram_range=(1,2))\n",
    "X_tfidf = tfidf.fit_transform(corpus)"
   ]
  },
  {
   "cell_type": "markdown",
   "id": "9ace22cc-5d68-4abe-a62a-21d3eff4595e",
   "metadata": {},
   "source": [
    "import sklearn, pandas as pd\n",
    "print(\"scikit-learn Version:\", sklearn.__version__)\n",
    "print(\"pandas Version:\", pd.__version__)"
   ]
  },
  {
   "cell_type": "markdown",
   "id": "70756061-a6e3-49f6-aee4-24965b51db34",
   "metadata": {},
   "source": []
  },
  {
   "cell_type": "markdown",
   "id": "3ad324b6-a26f-491d-a0af-db1537beb579",
   "metadata": {},
   "source": []
  },
  {
   "cell_type": "code",
   "execution_count": null,
   "id": "3e0132d3-7c49-4d11-97ac-ec370a5e9c01",
   "metadata": {},
   "outputs": [],
   "source": []
  },
  {
   "cell_type": "code",
   "execution_count": null,
   "id": "7a0f92e9-b5c5-426c-84da-75f60bea0ef1",
   "metadata": {},
   "outputs": [],
   "source": []
  },
  {
   "cell_type": "code",
   "execution_count": null,
   "id": "ac271246-9765-440e-ad64-f27d23a38424",
   "metadata": {},
   "outputs": [],
   "source": []
  },
  {
   "cell_type": "code",
   "execution_count": null,
   "id": "ecf7f340-6a8b-4df4-99e2-3a0c3692935c",
   "metadata": {},
   "outputs": [],
   "source": []
  }
 ],
 "metadata": {
  "kernelspec": {
   "display_name": "Python 3 (ipykernel)",
   "language": "python",
   "name": "python3"
  },
  "language_info": {
   "codemirror_mode": {
    "name": "ipython",
    "version": 3
   },
   "file_extension": ".py",
   "mimetype": "text/x-python",
   "name": "python",
   "nbconvert_exporter": "python",
   "pygments_lexer": "ipython3",
   "version": "3.12.8"
  }
 },
 "nbformat": 4,
 "nbformat_minor": 5
}
