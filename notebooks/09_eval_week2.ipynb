{
 "cells": [
  {
   "cell_type": "markdown",
   "id": "2e4ed9a0",
   "metadata": {},
   "source": [
    "# 09 — Evaluation (Woche 2)\n",
    "\n",
    "Vergleich **TF-IDF** vs. **SBERT** (falls verfügbar) auf einem kleinen Ground-Truth.\n",
    "\n",
    "- Robust gegenüber Arbeitsverzeichnis: lädt `../data/sample_corpus.json` oder `data/sample_corpus.json`\n",
    "- Metriken: Precision@k, MRR, nDCG\n",
    "- Speed-Benchmark: Latenz pro Query\n",
    "- Export: CSV mit Einzelresultaten\n",
    "\n",
    "> Hinweis: SBERT wird **optional** geladen. Wenn das Paket/Modell fehlt, läuft alles mit TF-IDF weiter."
   ]
  },
  {
   "cell_type": "code",
   "execution_count": 1,
   "id": "f74acc77",
   "metadata": {},
   "outputs": [
    {
     "data": {
      "text/plain": [
       "(10,\n",
       " ['Die Kickdrum pumpt im Mix, aber die Snare wirkt zu dünn.',\n",
       "  'Vocals sitzen zu weit hinten, mehr Präsenz im 3 kHz Bereich.',\n",
       "  'Die Snare klingt trocken und etwas hart, vielleicht mehr Raumanteil.'])"
      ]
     },
     "execution_count": 1,
     "metadata": {},
     "output_type": "execute_result"
    }
   ],
   "source": [
    "from __future__ import annotations\n",
    "import os, json, time, importlib.util, warnings\n",
    "from pathlib import Path\n",
    "from typing import List, Dict, Tuple, Optional\n",
    "from tqdm.auto import TqdmExperimentalWarning\n",
    "warnings.filterwarnings(\"ignore\", category=TqdmExperimentalWarning)\n",
    "import numpy as np\n",
    "import pandas as pd\n",
    "from sklearn.feature_extraction.text import TfidfVectorizer\n",
    "\n",
    "# ---- Pfade & Daten laden (robust) ----\n",
    "def load_texts() -> List[str]:\n",
    "    candidates = [\n",
    "        Path.cwd() / \"data\" / \"sample_corpus.json\",\n",
    "        Path.cwd() / \"..\" / \"data\" / \"sample_corpus.json\",\n",
    "        Path(__file__).parent / \"..\" / \"data\" / \"sample_corpus.json\" if \"__file__\" in globals() else Path.cwd()/\"data\"/\"sample_corpus.json\"\n",
    "    ]\n",
    "    for p in candidates:\n",
    "        try:\n",
    "            if p.exists():\n",
    "                return json.loads(p.read_text(encoding=\"utf-8\"))\n",
    "        except Exception:\n",
    "            pass\n",
    "    # Fallback-Mini-Korpus\n",
    "    return [\n",
    "        \"Die Snare ist zu laut und harsch\",\n",
    "        \"Kick zu weich, es fehlt der Punch\",\n",
    "        \"Vocals klingen nasal, 800 Hz absenken\",\n",
    "        \"Bass maskiert die Kick, Sidechain nötig\",\n",
    "        \"S-Laute sind scharf, De-Esser einsetzen\",\n",
    "    ]\n",
    "\n",
    "texts = load_texts()\n",
    "len(texts), texts[:3]"
   ]
  },
  {
   "cell_type": "markdown",
   "id": "62431da7",
   "metadata": {},
   "source": [
    "## Ranker: TF-IDF + (optional) SBERT"
   ]
  },
  {
   "cell_type": "code",
   "execution_count": 2,
   "id": "4e2b7d7a",
   "metadata": {},
   "outputs": [
    {
     "name": "stdout",
     "output_type": "stream",
     "text": [
      "SBERT aktiv: True\n"
     ]
    }
   ],
   "source": [
    "# ---- TF-IDF Ranker ----\n",
    "class TfidfRanker:\n",
    "    def __init__(self, docs: List[str]):\n",
    "        self.vectorizer = TfidfVectorizer(lowercase=True, ngram_range=(1,2), min_df=1)\n",
    "        self.X = self.vectorizer.fit_transform(docs)\n",
    "        self.docs = docs\n",
    "\n",
    "    def rank(self, query: str, k: int = 5) -> Tuple[List[int], List[float]]:\n",
    "        qv = self.vectorizer.transform([query])\n",
    "        sims = (qv @ self.X.T).toarray().ravel()\n",
    "        order = np.argsort(-sims)\n",
    "        topk = order[:k].tolist()\n",
    "        return topk, sims[topk].tolist()\n",
    "\n",
    "# ---- SBERT Ranker (optional) ----\n",
    "def try_sbert(docs: List[str], model_name: str = \"sentence-transformers/paraphrase-multilingual-MiniLM-L12-v2\"):\n",
    "    try:\n",
    "        if importlib.util.find_spec(\"sentence_transformers\") is None:\n",
    "            return None\n",
    "        from sentence_transformers import SentenceTransformer\n",
    "        with warnings.catch_warnings():\n",
    "            warnings.simplefilter(\"ignore\")\n",
    "            model = SentenceTransformer(model_name, device=\"cpu\")\n",
    "            doc_emb = model.encode(docs, normalize_embeddings=True)\n",
    "        class _Ranker:\n",
    "            def __init__(self, model, doc_emb):\n",
    "                self.model, self.doc_emb = model, doc_emb\n",
    "            def rank(self, query: str, k: int = 5):\n",
    "                qv = self.model.encode([query], normalize_embeddings=True)\n",
    "                sims = (qv @ self.doc_emb.T).ravel()\n",
    "                order = np.argsort(-sims)\n",
    "                topk = order[:k].tolist()\n",
    "                return topk, sims[topk].tolist()\n",
    "        return _Ranker(model, doc_emb)\n",
    "    except Exception as e:\n",
    "        print(\"[SBERT] nicht verfügbar:\", e)\n",
    "        return None\n",
    "\n",
    "tfidf_ranker = TfidfRanker(texts)\n",
    "sbert_ranker = try_sbert(texts)\n",
    "print(\"SBERT aktiv:\", sbert_ranker is not None)"
   ]
  },
  {
   "cell_type": "markdown",
   "id": "ad07cd45",
   "metadata": {},
   "source": [
    "## Ground Truth (Mini-Set)\n",
    "Die GT mappt Suchanfragen auf relevante Dokument-Indizes (anpassbar/erweiterbar)."
   ]
  },
  {
   "cell_type": "code",
   "execution_count": 3,
   "id": "dd4c6235",
   "metadata": {},
   "outputs": [
    {
     "data": {
      "text/plain": [
       "[('snare zu laut', [0]), ('kick mehr punch', [1])]"
      ]
     },
     "execution_count": 3,
     "metadata": {},
     "output_type": "execute_result"
    }
   ],
   "source": [
    "GT: Dict[str, List[int]] = {\n",
    "    \"snare zu laut\": [0],\n",
    "    \"kick mehr punch\": [1],\n",
    "    \"vocals nasal 800 hz\": [2],\n",
    "    \"bass maskiert kick\": [3],\n",
    "    \"s-laute scharf de-esser\": [4],\n",
    "}\n",
    "list(GT.items())[:2]"
   ]
  },
  {
   "cell_type": "markdown",
   "id": "9f57414d",
   "metadata": {},
   "source": [
    "## Metriken: Precision@k, MRR, nDCG"
   ]
  },
  {
   "cell_type": "code",
   "execution_count": 4,
   "id": "d8db3535",
   "metadata": {},
   "outputs": [
    {
     "data": {
      "text/html": [
       "<div>\n",
       "<style scoped>\n",
       "    .dataframe tbody tr th:only-of-type {\n",
       "        vertical-align: middle;\n",
       "    }\n",
       "\n",
       "    .dataframe tbody tr th {\n",
       "        vertical-align: top;\n",
       "    }\n",
       "\n",
       "    .dataframe thead th {\n",
       "        text-align: right;\n",
       "    }\n",
       "</style>\n",
       "<table border=\"1\" class=\"dataframe\">\n",
       "  <thead>\n",
       "    <tr style=\"text-align: right;\">\n",
       "      <th></th>\n",
       "      <th>query</th>\n",
       "      <th>P@1</th>\n",
       "      <th>P@3</th>\n",
       "      <th>P@5</th>\n",
       "      <th>MRR</th>\n",
       "      <th>nDCG@5</th>\n",
       "      <th>latency_ms</th>\n",
       "      <th>pred</th>\n",
       "      <th>sims</th>\n",
       "    </tr>\n",
       "  </thead>\n",
       "  <tbody>\n",
       "    <tr>\n",
       "      <th>0</th>\n",
       "      <td>snare zu laut</td>\n",
       "      <td>0.0</td>\n",
       "      <td>0.333333</td>\n",
       "      <td>0.2</td>\n",
       "      <td>0.333333</td>\n",
       "      <td>0.500000</td>\n",
       "      <td>2.477417</td>\n",
       "      <td>[9, 5, 0, 2, 1]</td>\n",
       "      <td>[0.2896, 0.1791, 0.121, 0.0794, 0.0498]</td>\n",
       "    </tr>\n",
       "    <tr>\n",
       "      <th>1</th>\n",
       "      <td>kick mehr punch</td>\n",
       "      <td>0.0</td>\n",
       "      <td>0.000000</td>\n",
       "      <td>0.2</td>\n",
       "      <td>0.250000</td>\n",
       "      <td>0.430677</td>\n",
       "      <td>1.083125</td>\n",
       "      <td>[3, 8, 2, 1, 6]</td>\n",
       "      <td>[0.3109, 0.1237, 0.0577, 0.0568, 0.056]</td>\n",
       "    </tr>\n",
       "    <tr>\n",
       "      <th>2</th>\n",
       "      <td>vocals nasal 800 hz</td>\n",
       "      <td>0.0</td>\n",
       "      <td>0.000000</td>\n",
       "      <td>0.2</td>\n",
       "      <td>0.200000</td>\n",
       "      <td>0.386853</td>\n",
       "      <td>0.371875</td>\n",
       "      <td>[7, 1, 9, 0, 2]</td>\n",
       "      <td>[0.4427, 0.1007, 0.0782, 0.0, 0.0]</td>\n",
       "    </tr>\n",
       "    <tr>\n",
       "      <th>3</th>\n",
       "      <td>bass maskiert kick</td>\n",
       "      <td>0.0</td>\n",
       "      <td>0.000000</td>\n",
       "      <td>0.2</td>\n",
       "      <td>0.200000</td>\n",
       "      <td>0.386853</td>\n",
       "      <td>0.239250</td>\n",
       "      <td>[8, 0, 1, 2, 3]</td>\n",
       "      <td>[0.3244, 0.0, 0.0, 0.0, 0.0]</td>\n",
       "    </tr>\n",
       "    <tr>\n",
       "      <th>4</th>\n",
       "      <td>s-laute scharf de-esser</td>\n",
       "      <td>0.0</td>\n",
       "      <td>0.333333</td>\n",
       "      <td>0.2</td>\n",
       "      <td>0.500000</td>\n",
       "      <td>0.630930</td>\n",
       "      <td>0.897625</td>\n",
       "      <td>[5, 4, 0, 1, 2]</td>\n",
       "      <td>[0.3386, 0.1068, 0.0, 0.0, 0.0]</td>\n",
       "    </tr>\n",
       "  </tbody>\n",
       "</table>\n",
       "</div>"
      ],
      "text/plain": [
       "                     query  P@1       P@3  P@5       MRR    nDCG@5  \\\n",
       "0            snare zu laut  0.0  0.333333  0.2  0.333333  0.500000   \n",
       "1          kick mehr punch  0.0  0.000000  0.2  0.250000  0.430677   \n",
       "2      vocals nasal 800 hz  0.0  0.000000  0.2  0.200000  0.386853   \n",
       "3       bass maskiert kick  0.0  0.000000  0.2  0.200000  0.386853   \n",
       "4  s-laute scharf de-esser  0.0  0.333333  0.2  0.500000  0.630930   \n",
       "\n",
       "   latency_ms             pred                                     sims  \n",
       "0    2.477417  [9, 5, 0, 2, 1]  [0.2896, 0.1791, 0.121, 0.0794, 0.0498]  \n",
       "1    1.083125  [3, 8, 2, 1, 6]  [0.3109, 0.1237, 0.0577, 0.0568, 0.056]  \n",
       "2    0.371875  [7, 1, 9, 0, 2]       [0.4427, 0.1007, 0.0782, 0.0, 0.0]  \n",
       "3    0.239250  [8, 0, 1, 2, 3]             [0.3244, 0.0, 0.0, 0.0, 0.0]  \n",
       "4    0.897625  [5, 4, 0, 1, 2]          [0.3386, 0.1068, 0.0, 0.0, 0.0]  "
      ]
     },
     "execution_count": 4,
     "metadata": {},
     "output_type": "execute_result"
    }
   ],
   "source": [
    "def precision_at_k(pred: List[int], rel: List[int], k: int) -> float:\n",
    "    P = pred[:k]\n",
    "    hits = sum(1 for i in P if i in rel)\n",
    "    return hits / max(1, len(P))\n",
    "\n",
    "def reciprocal_rank(pred: List[int], rel: List[int]) -> float:\n",
    "    for idx, p in enumerate(pred, 1):\n",
    "        if p in rel:\n",
    "            return 1.0 / idx\n",
    "    return 0.0\n",
    "\n",
    "def ndcg_at_k(pred: List[int], rel: List[int], k: int) -> float:\n",
    "    def dcg(items):\n",
    "        s = 0.0\n",
    "        for i, it in enumerate(items, 1):\n",
    "            gain = 1.0 if it in rel else 0.0\n",
    "            s += gain / np.log2(i + 1)\n",
    "        return s\n",
    "    DCG = dcg(pred[:k])\n",
    "    IDCG = dcg(rel[:k]) if rel else 1.0\n",
    "    return DCG / max(IDCG, 1e-9)\n",
    "\n",
    "def evaluate(ranker, queries: Dict[str, List[int]], k: int = 5) -> pd.DataFrame:\n",
    "    rows = []\n",
    "    for q, rel in queries.items():\n",
    "        t0 = time.perf_counter()\n",
    "        pred, sims = ranker.rank(q, k=max(k, 5))\n",
    "        dt = (time.perf_counter() - t0) * 1000\n",
    "        rows.append({\n",
    "            \"query\": q,\n",
    "            \"P@1\": precision_at_k(pred, rel, 1),\n",
    "            \"P@3\": precision_at_k(pred, rel, 3),\n",
    "            \"P@5\": precision_at_k(pred, rel, 5),\n",
    "            \"MRR\": reciprocal_rank(pred, rel),\n",
    "            \"nDCG@5\": ndcg_at_k(pred, rel, 5),\n",
    "            \"latency_ms\": dt,\n",
    "            \"pred\": pred,\n",
    "            \"sims\": [round(float(x), 4) for x in sims]\n",
    "        })\n",
    "    return pd.DataFrame(rows)\n",
    "\n",
    "df_tfidf = evaluate(tfidf_ranker, GT)\n",
    "df_tfidf"
   ]
  },
  {
   "cell_type": "code",
   "execution_count": 5,
   "id": "c1206984",
   "metadata": {},
   "outputs": [
    {
     "data": {
      "text/html": [
       "<div>\n",
       "<style scoped>\n",
       "    .dataframe tbody tr th:only-of-type {\n",
       "        vertical-align: middle;\n",
       "    }\n",
       "\n",
       "    .dataframe tbody tr th {\n",
       "        vertical-align: top;\n",
       "    }\n",
       "\n",
       "    .dataframe thead th {\n",
       "        text-align: right;\n",
       "    }\n",
       "</style>\n",
       "<table border=\"1\" class=\"dataframe\">\n",
       "  <thead>\n",
       "    <tr style=\"text-align: right;\">\n",
       "      <th></th>\n",
       "      <th>query</th>\n",
       "      <th>P@1</th>\n",
       "      <th>P@3</th>\n",
       "      <th>P@5</th>\n",
       "      <th>MRR</th>\n",
       "      <th>nDCG@5</th>\n",
       "      <th>latency_ms</th>\n",
       "      <th>pred</th>\n",
       "      <th>sims</th>\n",
       "    </tr>\n",
       "  </thead>\n",
       "  <tbody>\n",
       "    <tr>\n",
       "      <th>0</th>\n",
       "      <td>snare zu laut</td>\n",
       "      <td>0.0</td>\n",
       "      <td>0.000000</td>\n",
       "      <td>0.0</td>\n",
       "      <td>0.0</td>\n",
       "      <td>0.00000</td>\n",
       "      <td>24.172875</td>\n",
       "      <td>[5, 1, 2, 7, 3]</td>\n",
       "      <td>[0.604, 0.5759, 0.4062, 0.3972, 0.3829]</td>\n",
       "    </tr>\n",
       "    <tr>\n",
       "      <th>1</th>\n",
       "      <td>kick mehr punch</td>\n",
       "      <td>0.0</td>\n",
       "      <td>0.000000</td>\n",
       "      <td>0.0</td>\n",
       "      <td>0.0</td>\n",
       "      <td>0.00000</td>\n",
       "      <td>16.656250</td>\n",
       "      <td>[3, 0, 9, 6, 8]</td>\n",
       "      <td>[0.6462, 0.5553, 0.4025, 0.3059, 0.3031]</td>\n",
       "    </tr>\n",
       "    <tr>\n",
       "      <th>2</th>\n",
       "      <td>vocals nasal 800 hz</td>\n",
       "      <td>0.0</td>\n",
       "      <td>0.000000</td>\n",
       "      <td>0.0</td>\n",
       "      <td>0.0</td>\n",
       "      <td>0.00000</td>\n",
       "      <td>18.422125</td>\n",
       "      <td>[7, 1, 5, 9, 6]</td>\n",
       "      <td>[0.6452, 0.578, 0.5177, 0.359, 0.3325]</td>\n",
       "    </tr>\n",
       "    <tr>\n",
       "      <th>3</th>\n",
       "      <td>bass maskiert kick</td>\n",
       "      <td>0.0</td>\n",
       "      <td>0.333333</td>\n",
       "      <td>0.2</td>\n",
       "      <td>0.5</td>\n",
       "      <td>0.63093</td>\n",
       "      <td>16.327625</td>\n",
       "      <td>[8, 3, 0, 7, 6]</td>\n",
       "      <td>[0.7573, 0.6409, 0.502, 0.4062, 0.3781]</td>\n",
       "    </tr>\n",
       "    <tr>\n",
       "      <th>4</th>\n",
       "      <td>s-laute scharf de-esser</td>\n",
       "      <td>0.0</td>\n",
       "      <td>0.000000</td>\n",
       "      <td>0.0</td>\n",
       "      <td>0.0</td>\n",
       "      <td>0.00000</td>\n",
       "      <td>18.351708</td>\n",
       "      <td>[2, 0, 5, 6, 9]</td>\n",
       "      <td>[0.5402, 0.4996, 0.4752, 0.4484, 0.4215]</td>\n",
       "    </tr>\n",
       "  </tbody>\n",
       "</table>\n",
       "</div>"
      ],
      "text/plain": [
       "                     query  P@1       P@3  P@5  MRR   nDCG@5  latency_ms  \\\n",
       "0            snare zu laut  0.0  0.000000  0.0  0.0  0.00000   24.172875   \n",
       "1          kick mehr punch  0.0  0.000000  0.0  0.0  0.00000   16.656250   \n",
       "2      vocals nasal 800 hz  0.0  0.000000  0.0  0.0  0.00000   18.422125   \n",
       "3       bass maskiert kick  0.0  0.333333  0.2  0.5  0.63093   16.327625   \n",
       "4  s-laute scharf de-esser  0.0  0.000000  0.0  0.0  0.00000   18.351708   \n",
       "\n",
       "              pred                                      sims  \n",
       "0  [5, 1, 2, 7, 3]   [0.604, 0.5759, 0.4062, 0.3972, 0.3829]  \n",
       "1  [3, 0, 9, 6, 8]  [0.6462, 0.5553, 0.4025, 0.3059, 0.3031]  \n",
       "2  [7, 1, 5, 9, 6]    [0.6452, 0.578, 0.5177, 0.359, 0.3325]  \n",
       "3  [8, 3, 0, 7, 6]   [0.7573, 0.6409, 0.502, 0.4062, 0.3781]  \n",
       "4  [2, 0, 5, 6, 9]  [0.5402, 0.4996, 0.4752, 0.4484, 0.4215]  "
      ]
     },
     "execution_count": 5,
     "metadata": {},
     "output_type": "execute_result"
    }
   ],
   "source": [
    "if sbert_ranker is not None:\n",
    "    df_sbert = evaluate(sbert_ranker, GT)\n",
    "else:\n",
    "    df_sbert = pd.DataFrame(columns=df_tfidf.columns)\n",
    "df_sbert"
   ]
  },
  {
   "cell_type": "markdown",
   "id": "cf592c9e",
   "metadata": {},
   "source": [
    "## Zusammenfassung (Mittelwerte) & Vergleich"
   ]
  },
  {
   "cell_type": "code",
   "execution_count": 6,
   "id": "470823ca",
   "metadata": {},
   "outputs": [
    {
     "data": {
      "text/html": [
       "<div>\n",
       "<style scoped>\n",
       "    .dataframe tbody tr th:only-of-type {\n",
       "        vertical-align: middle;\n",
       "    }\n",
       "\n",
       "    .dataframe tbody tr th {\n",
       "        vertical-align: top;\n",
       "    }\n",
       "\n",
       "    .dataframe thead th {\n",
       "        text-align: right;\n",
       "    }\n",
       "</style>\n",
       "<table border=\"1\" class=\"dataframe\">\n",
       "  <thead>\n",
       "    <tr style=\"text-align: right;\">\n",
       "      <th></th>\n",
       "      <th>model</th>\n",
       "      <th>P@1</th>\n",
       "      <th>P@3</th>\n",
       "      <th>P@5</th>\n",
       "      <th>MRR</th>\n",
       "      <th>nDCG@5</th>\n",
       "      <th>latency_ms</th>\n",
       "    </tr>\n",
       "  </thead>\n",
       "  <tbody>\n",
       "    <tr>\n",
       "      <th>0</th>\n",
       "      <td>TF-IDF</td>\n",
       "      <td>0.0</td>\n",
       "      <td>0.133333</td>\n",
       "      <td>0.20</td>\n",
       "      <td>0.296667</td>\n",
       "      <td>0.467062</td>\n",
       "      <td>1.013858</td>\n",
       "    </tr>\n",
       "    <tr>\n",
       "      <th>1</th>\n",
       "      <td>SBERT</td>\n",
       "      <td>0.0</td>\n",
       "      <td>0.066667</td>\n",
       "      <td>0.04</td>\n",
       "      <td>0.100000</td>\n",
       "      <td>0.126186</td>\n",
       "      <td>18.786117</td>\n",
       "    </tr>\n",
       "  </tbody>\n",
       "</table>\n",
       "</div>"
      ],
      "text/plain": [
       "    model  P@1       P@3   P@5       MRR    nDCG@5  latency_ms\n",
       "0  TF-IDF  0.0  0.133333  0.20  0.296667  0.467062    1.013858\n",
       "1   SBERT  0.0  0.066667  0.04  0.100000  0.126186   18.786117"
      ]
     },
     "execution_count": 6,
     "metadata": {},
     "output_type": "execute_result"
    }
   ],
   "source": [
    "def summarize(df: pd.DataFrame, name: str) -> pd.DataFrame:\n",
    "    if df.empty:\n",
    "        return pd.DataFrame([[name, np.nan, np.nan, np.nan, np.nan, np.nan, np.nan]],\n",
    "                            columns=[\"model\",\"P@1\",\"P@3\",\"P@5\",\"MRR\",\"nDCG@5\",\"latency_ms\"])\n",
    "    m = df[[\"P@1\",\"P@3\",\"P@5\",\"MRR\",\"nDCG@5\",\"latency_ms\"]].mean().to_dict()\n",
    "    return pd.DataFrame([[name, *[m[c] for c in [\"P@1\",\"P@3\",\"P@5\",\"MRR\",\"nDCG@5\",\"latency_ms\"]]]],\n",
    "                        columns=[\"model\",\"P@1\",\"P@3\",\"P@5\",\"MRR\",\"nDCG@5\",\"latency_ms\"])\n",
    "\n",
    "sum_tfidf = summarize(df_tfidf, \"TF-IDF\")\n",
    "sum_sbert = summarize(df_sbert, \"SBERT\")\n",
    "pd.concat([sum_tfidf, sum_sbert], ignore_index=True)"
   ]
  },
  {
   "cell_type": "markdown",
   "id": "dcfa4575",
   "metadata": {},
   "source": [
    "## Export (CSV)"
   ]
  },
  {
   "cell_type": "code",
   "execution_count": 7,
   "id": "9b189f64",
   "metadata": {},
   "outputs": [
    {
     "name": "stdout",
     "output_type": "stream",
     "text": [
      "Export -> /Users/sm/Documents/mixing-forum-analyzer/notebooks/../data\n"
     ]
    }
   ],
   "source": [
    "out_dir = Path.cwd()/\"..\"/\"data\"\n",
    "out_dir.mkdir(parents=True, exist_ok=True)\n",
    "(out_dir/\"eval_week2_tfidf.csv\").write_text(df_tfidf.to_csv(index=False), encoding=\"utf-8\")\n",
    "if not df_sbert.empty:\n",
    "    (out_dir/\"eval_week2_sbert.csv\").write_text(df_sbert.to_csv(index=False), encoding=\"utf-8\")\n",
    "print(\"Export ->\", out_dir)"
   ]
  },
  {
   "cell_type": "markdown",
   "id": "fb5126f4",
   "metadata": {},
   "source": [
    "## Sanity-Checks (Top-Treffer ansehen)"
   ]
  },
  {
   "cell_type": "code",
   "execution_count": 8,
   "id": "52e1f562",
   "metadata": {},
   "outputs": [
    {
     "name": "stdout",
     "output_type": "stream",
     "text": [
      "\n",
      "==> TF-IDF\n",
      "'snare zu laut' -> ['Snare zu boxig, 300–500 Hz absenken, transientenfreundlicher Kompressor.', 'Der Gesang hat zu viel S-Laut, De-Esser vor dem Kompressor?', 'Die Kickdrum pumpt im Mix, aber die Snare wirkt zu dünn.']\n",
      "'kick mehr punch' -> ['Bassdrum und Kickdrum werden oft verwechselt – ich brauche mehr Punch.', 'Sub-Bass ist maskierend, Sidechain von Kick zur Bassspur einrichten.', 'Die Snare klingt trocken und etwas hart, vielleicht mehr Raumanteil.']\n",
      "'vocals nasal 800 hz' -> ['Gitarren klingen nasal, 800 Hz leicht absenken, dafür 4 kHz etwas anheben.', 'Vocals sitzen zu weit hinten, mehr Präsenz im 3 kHz Bereich.', 'Snare zu boxig, 300–500 Hz absenken, transientenfreundlicher Kompressor.']\n",
      "\n",
      "==> SBERT\n",
      "'snare zu laut' -> ['Der Gesang hat zu viel S-Laut, De-Esser vor dem Kompressor?', 'Vocals sitzen zu weit hinten, mehr Präsenz im 3 kHz Bereich.', 'Die Snare klingt trocken und etwas hart, vielleicht mehr Raumanteil.']\n",
      "'kick mehr punch' -> ['Bassdrum und Kickdrum werden oft verwechselt – ich brauche mehr Punch.', 'Die Kickdrum pumpt im Mix, aber die Snare wirkt zu dünn.', 'Snare zu boxig, 300–500 Hz absenken, transientenfreundlicher Kompressor.']\n",
      "'vocals nasal 800 hz' -> ['Gitarren klingen nasal, 800 Hz leicht absenken, dafür 4 kHz etwas anheben.', 'Vocals sitzen zu weit hinten, mehr Präsenz im 3 kHz Bereich.', 'Der Gesang hat zu viel S-Laut, De-Esser vor dem Kompressor?']\n"
     ]
    }
   ],
   "source": [
    "def top_strings(pred_idx: List[int]) -> List[str]:\n",
    "    return [texts[i] for i in pred_idx]\n",
    "\n",
    "for mname, r in [(\"TF-IDF\", tfidf_ranker), (\"SBERT\", sbert_ranker)]:\n",
    "    if r is None: continue\n",
    "    print(\"\\n==>\", mname)\n",
    "    for q in list(GT.keys())[:3]:\n",
    "        pred, _ = r.rank(q, k=3)\n",
    "        print(f\"{q!r} ->\", top_strings(pred))"
   ]
  },
  {
   "cell_type": "code",
   "execution_count": null,
   "id": "9722f1ea-6c40-46cc-9866-d4ef3dfeebfe",
   "metadata": {},
   "outputs": [],
   "source": []
  },
  {
   "cell_type": "code",
   "execution_count": null,
   "id": "9ffdea06-8916-4354-9769-b8d25e8ebdb5",
   "metadata": {},
   "outputs": [],
   "source": []
  },
  {
   "cell_type": "code",
   "execution_count": null,
   "id": "1e057536-38bd-42a5-80a5-a0e8a519cd75",
   "metadata": {},
   "outputs": [],
   "source": []
  }
 ],
 "metadata": {
  "kernelspec": {
   "display_name": "Python 3 (ipykernel)",
   "language": "python",
   "name": "python3"
  },
  "language_info": {
   "codemirror_mode": {
    "name": "ipython",
    "version": 3
   },
   "file_extension": ".py",
   "mimetype": "text/x-python",
   "name": "python",
   "nbconvert_exporter": "python",
   "pygments_lexer": "ipython3",
   "version": "3.12.8"
  }
 },
 "nbformat": 4,
 "nbformat_minor": 5
}
