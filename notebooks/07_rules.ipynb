{
 "cells": [
  {
   "cell_type": "code",
   "execution_count": 1,
   "id": "cdce032a",
   "metadata": {},
   "outputs": [
    {
     "name": "stdout",
     "output_type": "stream",
     "text": [
      "spaCy geladen: core_news_sm · Pipeline: ['tok2vec', 'tagger', 'morphologizer', 'parser', 'lemmatizer', 'attribute_ruler', 'ner']\n"
     ]
    }
   ],
   "source": [
    "# Robustes spaCy-Setup + Regelsystem\n",
    "from __future__ import annotations\n",
    "import re, json\n",
    "from pathlib import Path\n",
    "\n",
    "import spacy\n",
    "import importlib.util\n",
    "from spacy.matcher import Matcher, PhraseMatcher\n",
    "from typing import Iterable, List, Dict, Set\n",
    "\n",
    "\n",
    "def load_nlp_de():\n",
    "    \"\"\"\n",
    "    Robustes Laden: zuerst Paket 'de_core_news_sm', dann spacy.load(),\n",
    "    sonst Fallback auf ein leeres deutsches Pipeline-Objekt.\n",
    "    \"\"\"\n",
    "    try:\n",
    "        if importlib.util.find_spec(\"de_core_news_sm\") is not None:\n",
    "            import de_core_news_sm  # type: ignore\n",
    "            return de_core_news_sm.load()\n",
    "        return spacy.load(\"de_core_news_sm\")\n",
    "    except Exception:\n",
    "        # Fallback: blankes Deutschen-Objekt (ohne Tagger/Parser, aber Tokenizer)\n",
    "        return spacy.blank(\"de\")\n",
    "\n",
    "\n",
    "nlp = load_nlp_de()\n",
    "\n",
    "# ---------- Phrase-Matcher für Audio-Adjektive ----------\n",
    "ADJ_TERMS = [\n",
    "    \"boxig\",\"mulmig\",\"harsch\",\"scharf\",\"nasal\",\"dull\",\"weich\",\"knackig\",\"punchy\",\n",
    "    \"spitz\",\"dumpf\",\"blechern\",\"luftig\",\"warm\",\"brillant\"\n",
    "]\n",
    "phr = PhraseMatcher(nlp.vocab, attr=\"LOWER\")\n",
    "phr.add(\"ADJ_AUDIO\", [nlp.make_doc(t) for t in ADJ_TERMS])\n",
    "\n",
    "# ---------- Token-Matcher ----------\n",
    "matcher = Matcher(nlp.vocab)\n",
    "\n",
    "# 1) Frequenzangaben (z. B. \"800 Hz\", \"3 kHz\", \"1.2kHz\", \"800–1000 Hz\")\n",
    "#    Variante A: [Zahl] [optional -/–/— Zahl] [Einheit]\n",
    "#    Variante B: \"1.2kHz\" / \"800Hz\" als einzelnes Token\n",
    "matcher.add(\n",
    "    \"FREQ_HZ\",\n",
    "    [\n",
    "        [\n",
    "            {\"LIKE_NUM\": True},\n",
    "            {\"TEXT\": {\"REGEX\": r\"[-–—]\"}, \"OP\": \"?\"},\n",
    "            {\"LIKE_NUM\": True, \"OP\": \"?\"},\n",
    "            {\"LOWER\": {\"IN\": [\"hz\", \"khz\"]}},\n",
    "        ],\n",
    "        [\n",
    "            # Flags NICHT als Feld übergeben, sondern inline (?i) für case-insensitive\n",
    "            {\"TEXT\": {\"REGEX\": r\"(?i)^\\d+(?:\\.\\d+)?k?hz$\"}}\n",
    "        ],\n",
    "    ],\n",
    ")\n",
    "\n",
    "# 2) Sibilanz / S-Laute\n",
    "matcher.add(\n",
    "    \"SIBILANCE\",\n",
    "    [[{\"LOWER\": {\"IN\": [\"s-laut\", \"s-laute\", \"zischelig\", \"sibilanz\", \"sibilanzen\"]}}]]\n",
    ")\n",
    "\n",
    "# 3) Kompressor/Dynamics-Hinweise als Regex auf dem Rohtext\n",
    "DYN_REGEX = re.compile(r\"\\b(sidechain|parallel|kompressor|compressor|ratio|threshold|attack|release)\\b\", re.I)\n",
    "\n",
    "\n",
    "def tag_post(text: str) -> List[str]:\n",
    "    \"\"\"Gibt sortierte Tag-Liste zurück.  Tags: tone_adj, freq, sibilance, dynamics\"\"\"\n",
    "    tags: Set[str] = set()\n",
    "    doc = nlp(text)\n",
    "\n",
    "    # Phrase-Matches (Audio-Adjektive)\n",
    "    if phr(doc):\n",
    "        tags.add(\"tone_adj\")\n",
    "\n",
    "    # Token-Matches (Frequenz/Sibilanz)\n",
    "    for mid, start, end in matcher(doc):\n",
    "        label = nlp.vocab.strings[mid]\n",
    "        if label == \"FREQ_HZ\":\n",
    "            tags.add(\"freq\")\n",
    "        elif label == \"SIBILANCE\":\n",
    "            tags.add(\"sibilance\")\n",
    "\n",
    "    # Regex-Dynamics auf dem Rohtext\n",
    "    if DYN_REGEX.search(text):\n",
    "        tags.add(\"dynamics\")\n",
    "\n",
    "    return sorted(tags)\n",
    "\n",
    "\n",
    "print(\"spaCy geladen:\", nlp.meta.get(\"name\", \"blank\"), \"· Pipeline:\", nlp.pipe_names)\n"
   ]
  },
  {
   "cell_type": "code",
   "execution_count": 2,
   "id": "4152856a-e9bf-4a65-8cde-7e4bcaa28beb",
   "metadata": {},
   "outputs": [
    {
     "data": {
      "text/html": [
       "<div>\n",
       "<style scoped>\n",
       "    .dataframe tbody tr th:only-of-type {\n",
       "        vertical-align: middle;\n",
       "    }\n",
       "\n",
       "    .dataframe tbody tr th {\n",
       "        vertical-align: top;\n",
       "    }\n",
       "\n",
       "    .dataframe thead th {\n",
       "        text-align: right;\n",
       "    }\n",
       "</style>\n",
       "<table border=\"1\" class=\"dataframe\">\n",
       "  <thead>\n",
       "    <tr style=\"text-align: right;\">\n",
       "      <th></th>\n",
       "      <th>text</th>\n",
       "      <th>tags</th>\n",
       "    </tr>\n",
       "  </thead>\n",
       "  <tbody>\n",
       "    <tr>\n",
       "      <th>0</th>\n",
       "      <td>Die Snare ist zu harsch bei 8 kHz, vielleicht ...</td>\n",
       "      <td>freq, tone_adj</td>\n",
       "    </tr>\n",
       "    <tr>\n",
       "      <th>1</th>\n",
       "      <td>Kick wirkt zu weich – mehr Punch, bitte! 80 Hz...</td>\n",
       "      <td>freq, tone_adj</td>\n",
       "    </tr>\n",
       "    <tr>\n",
       "      <th>2</th>\n",
       "      <td>Vocal nasal &amp; boxig, 800 Hz etwas absenken.</td>\n",
       "      <td>freq, tone_adj</td>\n",
       "    </tr>\n",
       "    <tr>\n",
       "      <th>3</th>\n",
       "      <td>Sidechain vom Kick auf den Bass mit 2–4 dB Duc...</td>\n",
       "      <td>dynamics</td>\n",
       "    </tr>\n",
       "    <tr>\n",
       "      <th>4</th>\n",
       "      <td>Gitarren spitz, zwischen 3–4 kHz zu scharf.</td>\n",
       "      <td>tone_adj</td>\n",
       "    </tr>\n",
       "    <tr>\n",
       "      <th>5</th>\n",
       "      <td>Transient-Designer für mehr Attack auf der Snare.</td>\n",
       "      <td>dynamics</td>\n",
       "    </tr>\n",
       "  </tbody>\n",
       "</table>\n",
       "</div>"
      ],
      "text/plain": [
       "                                                text            tags\n",
       "0  Die Snare ist zu harsch bei 8 kHz, vielleicht ...  freq, tone_adj\n",
       "1  Kick wirkt zu weich – mehr Punch, bitte! 80 Hz...  freq, tone_adj\n",
       "2        Vocal nasal & boxig, 800 Hz etwas absenken.  freq, tone_adj\n",
       "3  Sidechain vom Kick auf den Bass mit 2–4 dB Duc...        dynamics\n",
       "4        Gitarren spitz, zwischen 3–4 kHz zu scharf.        tone_adj\n",
       "5  Transient-Designer für mehr Attack auf der Snare.        dynamics"
      ]
     },
     "execution_count": 2,
     "metadata": {},
     "output_type": "execute_result"
    }
   ],
   "source": [
    "import pandas as pd\n",
    "\n",
    "examples = [\n",
    "    \"Die Snare ist zu harsch bei 8 kHz, vielleicht De-Esser?\",\n",
    "    \"Kick wirkt zu weich – mehr Punch, bitte! 80 Hz boosten?\",\n",
    "    \"Vocal nasal & boxig, 800 Hz etwas absenken.\",\n",
    "    \"Sidechain vom Kick auf den Bass mit 2–4 dB Ducking.\",\n",
    "    \"Gitarren spitz, zwischen 3–4 kHz zu scharf.\",\n",
    "    \"Transient-Designer für mehr Attack auf der Snare.\"\n",
    "]\n",
    "\n",
    "rows = [{\"text\": s, \"tags\": \", \".join(tag_post(s))} for s in examples]\n",
    "df = pd.DataFrame(rows)\n",
    "df"
   ]
  },
  {
   "cell_type": "code",
   "execution_count": 3,
   "id": "74eada1b-e6dc-4e9a-a680-8b5567e6945c",
   "metadata": {},
   "outputs": [
    {
     "name": "stdout",
     "output_type": "stream",
     "text": [
      "Smoke-Tests ok ✓\n"
     ]
    }
   ],
   "source": [
    "def _assert_has(taglist, tag):\n",
    "    assert tag in taglist, f\"erwarte Tag '{tag}', bekam {taglist}\"\n",
    "\n",
    "# Grundchecks\n",
    "assert isinstance(tag_post(\"foo\"), list)\n",
    "_assert_has(tag_post(\"S-Laute nerven, bitte de-essen!\"), \"sibilance\")\n",
    "_assert_has(tag_post(\"800 Hz absenken\"), \"freq\")\n",
    "_assert_has(tag_post(\"Sidechain auf Bass\"), \"dynamics\")\n",
    "print(\"Smoke-Tests ok ✓\")"
   ]
  },
  {
   "cell_type": "code",
   "execution_count": 4,
   "id": "8ca666b5-a550-459f-aa01-df005e712aa5",
   "metadata": {},
   "outputs": [
    {
     "name": "stdout",
     "output_type": "stream",
     "text": [
      "Export geschrieben: ../data/rule_tags.json\n"
     ]
    }
   ],
   "source": [
    "# Speichert einfache Tag-Auswertung unter data/rule_tags.json\n",
    "out = [{\"text\": s, \"tags\": tag_post(s)} for s in examples]\n",
    "DATA = Path(\"../data\")\n",
    "DATA.mkdir(parents=True, exist_ok=True)\n",
    "(Path(\"../data/rule_tags.json\")).write_text(\n",
    "    json.dumps(out, ensure_ascii=False, indent=2), encoding=\"utf-8\"\n",
    ")\n",
    "print(\"Export geschrieben: ../data/rule_tags.json\")"
   ]
  },
  {
   "cell_type": "code",
   "execution_count": null,
   "id": "b0a5939d-4787-4c00-b72f-e82413c4bdb5",
   "metadata": {},
   "outputs": [],
   "source": []
  }
 ],
 "metadata": {
  "kernelspec": {
   "display_name": "Python 3 (ipykernel)",
   "language": "python",
   "name": "python3"
  },
  "language_info": {
   "codemirror_mode": {
    "name": "ipython",
    "version": 3
   },
   "file_extension": ".py",
   "mimetype": "text/x-python",
   "name": "python",
   "nbconvert_exporter": "python",
   "pygments_lexer": "ipython3",
   "version": "3.12.8"
  }
 },
 "nbformat": 4,
 "nbformat_minor": 5
}
